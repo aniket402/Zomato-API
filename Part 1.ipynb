{
 "cells": [
  {
   "cell_type": "markdown",
   "metadata": {},
   "source": [
    "## Zomato Cuisine Problem"
   ]
  },
  {
   "cell_type": "code",
   "execution_count": 1,
   "metadata": {},
   "outputs": [
    {
     "name": "stdout",
     "output_type": "stream",
     "text": [
      "73\n"
     ]
    }
   ],
   "source": [
    "# QUESTION 1\n",
    "\n",
    "import requests\n",
    "header={\"user-key\":\"aeb022f21d43f57c4beee0485a0111a0\"}\n",
    "response=requests.get(\"https://developers.zomato.com/api/v2.1/cuisines\",headers=header,params={\"city_id\":1})\n",
    "for i in response.json()['cuisines']:\n",
    "    if i['cuisine']['cuisine_name']=='Mexican':\n",
    "        print(i['cuisine']['cuisine_id'])"
   ]
  },
  {
   "cell_type": "code",
   "execution_count": 2,
   "metadata": {},
   "outputs": [
    {
     "name": "stdout",
     "output_type": "stream",
     "text": [
      "subzone 104\n"
     ]
    }
   ],
   "source": [
    "# QUESTION 2\n",
    "\n",
    "import requests\n",
    "header={\"user-key\":\"aeb022f21d43f57c4beee0485a0111a0\"}\n",
    "response=requests.get(\"https://developers.zomato.com/api/v2.1/locations\",headers=header,params={\"query\":'Connaught Place'})\n",
    "e=response.json()\n",
    "\n",
    "print(e['location_suggestions'][0]['entity_type'],e['location_suggestions'][0]['entity_id'])"
   ]
  },
  {
   "cell_type": "code",
   "execution_count": 3,
   "metadata": {},
   "outputs": [
    {
     "name": "stdout",
     "output_type": "stream",
     "text": [
      "Station Bar 4.5 18851371\n",
      "Master Of Malts 4.4 18391149\n",
      "Local 4.3 18382360\n",
      "The Junkyard Cafe 4.3 313256\n",
      "Ministry Of Beer 4.3 18418277\n",
      "38 Barracks 4.3 18241537\n",
      "The Darzi Bar & Kitchen 4.3 18423151\n",
      "Teddy Boy 4.3 18281985\n",
      "Lord Of The Drinks 4.3 312603\n",
      "Xero Degrees 4.3 18729557\n"
     ]
    }
   ],
   "source": [
    "# QUESTION 3\n",
    "\n",
    "import requests\n",
    "header={\"user-key\":\"aeb022f21d43f57c4beee0485a0111a0\"}\n",
    "response=requests.get(\"https://developers.zomato.com/api/v2.1/locations\",headers=header,params={\"query\":'Connaught Place'})\n",
    "\n",
    "e=response.json()\n",
    "a=e['location_suggestions'][0]['entity_type']\n",
    "b=e['location_suggestions'][0]['entity_id']\n",
    "response1=requests.get(\"https://developers.zomato.com/api/v2.1/search\",headers=header,params={'entity_id':b,'entity_type':a,'count':10,'cuisines':'73','sort':'rating','order':'desc'})\n",
    "\n",
    "\n",
    "for i in response1.json()['restaurants']:\n",
    "    print(i['restaurant']['name'],i['restaurant']['user_rating']['aggregate_rating'],i['restaurant']['id'])\n",
    "    "
   ]
  },
  {
   "cell_type": "code",
   "execution_count": 4,
   "metadata": {},
   "outputs": [
    {
     "name": "stdout",
     "output_type": "stream",
     "text": [
      "Xero Degrees 4.3 18729557\n",
      "Chaayos - Meri Wali Chai 4.2 18237315\n",
      "The Art House Restaurant 3.9 18863766\n",
      "Cafe Coffee Day - The Square 3.9 303034\n"
     ]
    }
   ],
   "source": [
    "# QUESTION 4\n",
    "\n",
    "import requests\n",
    "header={\"user-key\":\"aeb022f21d43f57c4beee0485a0111a0\"}\n",
    "response=requests.get(\"https://developers.zomato.com/api/v2.1/locations\",headers=header,params={\"query\":'Connaught Place'})\n",
    "\n",
    "e=response.json()\n",
    "a=e['location_suggestions'][0]['entity_type']\n",
    "b=e['location_suggestions'][0]['entity_id']\n",
    "response1=requests.get(\"https://developers.zomato.com/api/v2.1/search\",headers=header,params={'entity_id':b,'entity_type':a,'count':10,'cuisines':'73','category':'6','sort':'rating','order':'desc'})\n",
    "\n",
    "\n",
    "for i in response1.json()['restaurants']:\n",
    "    print(i['restaurant']['name'],i['restaurant']['user_rating']['aggregate_rating'],i['restaurant']['id'])\n",
    "    "
   ]
  },
  {
   "cell_type": "code",
   "execution_count": 24,
   "metadata": {},
   "outputs": [
    {
     "ename": "KeyError",
     "evalue": "'user_reviews'",
     "output_type": "error",
     "traceback": [
      "\u001b[1;31m---------------------------------------------------------------------------\u001b[0m",
      "\u001b[1;31mKeyError\u001b[0m                                  Traceback (most recent call last)",
      "\u001b[1;32m<ipython-input-24-27e16763f9cb>\u001b[0m in \u001b[0;36m<module>\u001b[1;34m\u001b[0m\n\u001b[0;32m     19\u001b[0m     \u001b[0mres_id\u001b[0m\u001b[1;33m=\u001b[0m\u001b[0mr_id\u001b[0m\u001b[1;33m[\u001b[0m\u001b[0mi\u001b[0m\u001b[1;33m]\u001b[0m\u001b[1;33m\u001b[0m\u001b[1;33m\u001b[0m\u001b[0m\n\u001b[0;32m     20\u001b[0m     \u001b[0mresponse2\u001b[0m\u001b[1;33m=\u001b[0m\u001b[0mrequests\u001b[0m\u001b[1;33m.\u001b[0m\u001b[0mget\u001b[0m\u001b[1;33m(\u001b[0m\u001b[1;34m\"https://developers.zomato.com/api/v2.1/reviews\"\u001b[0m\u001b[1;33m,\u001b[0m\u001b[0mheaders\u001b[0m\u001b[1;33m=\u001b[0m\u001b[0mheader\u001b[0m\u001b[1;33m,\u001b[0m\u001b[0mparams\u001b[0m\u001b[1;33m=\u001b[0m\u001b[1;33m{\u001b[0m\u001b[1;34m\"res_id\"\u001b[0m\u001b[1;33m:\u001b[0m\u001b[0mres_id\u001b[0m\u001b[1;33m}\u001b[0m\u001b[1;33m)\u001b[0m\u001b[1;33m\u001b[0m\u001b[1;33m\u001b[0m\u001b[0m\n\u001b[1;32m---> 21\u001b[1;33m     \u001b[1;32mfor\u001b[0m \u001b[0mi\u001b[0m \u001b[1;32min\u001b[0m \u001b[0mresponse2\u001b[0m\u001b[1;33m.\u001b[0m\u001b[0mjson\u001b[0m\u001b[1;33m(\u001b[0m\u001b[1;33m)\u001b[0m\u001b[1;33m[\u001b[0m\u001b[1;34m'user_reviews'\u001b[0m\u001b[1;33m]\u001b[0m\u001b[1;33m:\u001b[0m\u001b[1;33m\u001b[0m\u001b[1;33m\u001b[0m\u001b[0m\n\u001b[0m\u001b[0;32m     22\u001b[0m         \u001b[0mprint\u001b[0m\u001b[1;33m(\u001b[0m\u001b[0mi\u001b[0m\u001b[1;33m[\u001b[0m\u001b[1;34m'review'\u001b[0m\u001b[1;33m]\u001b[0m\u001b[1;33m[\u001b[0m\u001b[1;34m'user'\u001b[0m\u001b[1;33m]\u001b[0m\u001b[1;33m[\u001b[0m\u001b[1;34m'name'\u001b[0m\u001b[1;33m]\u001b[0m\u001b[1;33m,\u001b[0m\u001b[0mi\u001b[0m\u001b[1;33m[\u001b[0m\u001b[1;34m'review'\u001b[0m\u001b[1;33m]\u001b[0m\u001b[1;33m[\u001b[0m\u001b[1;34m'rating'\u001b[0m\u001b[1;33m]\u001b[0m\u001b[1;33m,\u001b[0m\u001b[0mi\u001b[0m\u001b[1;33m[\u001b[0m\u001b[1;34m'review'\u001b[0m\u001b[1;33m]\u001b[0m\u001b[1;33m[\u001b[0m\u001b[1;34m'review_text'\u001b[0m\u001b[1;33m]\u001b[0m\u001b[1;33m)\u001b[0m\u001b[1;33m\u001b[0m\u001b[1;33m\u001b[0m\u001b[0m\n\u001b[0;32m     23\u001b[0m \u001b[1;33m\u001b[0m\u001b[0m\n",
      "\u001b[1;31mKeyError\u001b[0m: 'user_reviews'"
     ]
    }
   ],
   "source": [
    "# QUESTION 5\n",
    "\n",
    "import requests\n",
    "header={\"user-key\":\"aeb022f21d43f57c4beee0485a0111a0\"}\n",
    "response=requests.get(\"https://developers.zomato.com/api/v2.1/locations\",headers=header,params={\"query\":'Connaught Place'})\n",
    "\n",
    "e=response.json()\n",
    "a=e['location_suggestions'][0]['entity_type']\n",
    "b=e['location_suggestions'][0]['entity_id']\n",
    "response1=requests.get(\"https://developers.zomato.com/api/v2.1/search\",headers=header,params={'entity_id':b,'entity_type':a,'cuisines':'73','category':'6'})\n",
    "\n",
    "r_id=[]\n",
    "r_rating=[]\n",
    "for i in response1.json()['restaurants']:\n",
    "    r_id.append(i['restaurant']['id'])\n",
    "    r_rating.append(i['restaurant']['user_rating']['aggregate_rating'])\n",
    "\n",
    "for i in range(1):\n",
    "    res_id=r_id[i]\n",
    "    response2=requests.get(\"https://developers.zomato.com/api/v2.1/reviews\",headers=header,params={\"res_id\":res_id})\n",
    "    for i in response2.json()['user_reviews']:\n",
    "        print(i['review']['user']['name'],i['review']['rating'],i['review']['review_text'])\n",
    "        \n",
    "### API Disabled "
   ]
  },
  {
   "cell_type": "markdown",
   "metadata": {},
   "source": [
    "# Zomato Restaurant Problem"
   ]
  },
  {
   "cell_type": "code",
   "execution_count": 7,
   "metadata": {},
   "outputs": [
    {
     "name": "stdout",
     "output_type": "stream",
     "text": [
      "4.6\n",
      "2500\n",
      "Asian, Chinese, Thai, Japanese, Sushi, Malaysian, Momos, Beverages\n"
     ]
    }
   ],
   "source": [
    "# QUESTION 1\n",
    "\n",
    "import requests\n",
    "header={\"user-key\":\"aeb022f21d43f57c4beee0485a0111a0\"}\n",
    "\n",
    "response1=requests.get(\"https://developers.zomato.com/api/v2.1/restaurant\",headers=header,params={'res_id':18429148})\n",
    "a=response1.json()\n",
    "print(a['user_rating']['aggregate_rating'])\n",
    "print(a['average_cost_for_two'])\n",
    "\n",
    "print(a['cuisines'])\n",
    "\n"
   ]
  },
  {
   "cell_type": "code",
   "execution_count": 11,
   "metadata": {},
   "outputs": [
    {
     "name": "stdout",
     "output_type": "stream",
     "text": [
      "yes\n"
     ]
    }
   ],
   "source": [
    "# QUESTION 2\n",
    "\n",
    "url = \"https://developers.zomato.com/api/v2.1/restaurant\"\n",
    "header={\"user-key\":\"aeb022f21d43f57c4beee0485a0111a0\"}\n",
    "response = requests.get(url,headers=header,params={'res_id':18429148})\n",
    "response = response.json()\n",
    "\n",
    "if (response['is_table_reservation_supported']):\n",
    "    print('yes')\n",
    "else:\n",
    "    print('no')"
   ]
  },
  {
   "cell_type": "code",
   "execution_count": null,
   "metadata": {},
   "outputs": [],
   "source": [
    "# QUESTION 3\n",
    "\n",
    "import requests\n",
    "header={\"user-key\":\"aeb022f21d43f57c4beee0485a0111a0\"}\n",
    "response1=requests.get(\"https://developers.zomato.com/api/v2.1/reviews\",headers=header,params={'res_id':18429148})\n",
    "a=response1.json()\n",
    "for i in a['user_reviews']:\n",
    "        print(i['review']['user']['name'],i['review']['rating'],i['review']['review_text'])\n",
    "        \n",
    "## API Disabled"
   ]
  },
  {
   "cell_type": "markdown",
   "metadata": {},
   "source": [
    "# Zomato Distance Problem"
   ]
  },
  {
   "cell_type": "code",
   "execution_count": null,
   "metadata": {},
   "outputs": [],
   "source": [
    "# QUESTION 1\n",
    "\n",
    "import requests\n",
    "header={'User-agent':\"curl/7.43.0\",'Accept':'application/json',\"user-key\":\"aeb022f21d43f57c4beee0485a0111a0\"}\n",
    "response=requests.get(\"https://developers.zomato.com/api/v2.1/cuisines\",headers=header,params={'city_id':1})\n",
    "cuisine_id = 0\n",
    "for i in response.json().get('cuisines'):\n",
    "    if (i.get('cuisine').get('cuisine_name')=='BBQ'):\n",
    "        cuisine_id = i.get('cuisine').get('cuisine_id')\n",
    "print('cuisine_id')"
   ]
  },
  {
   "cell_type": "code",
   "execution_count": 19,
   "metadata": {},
   "outputs": [
    {
     "name": "stdout",
     "output_type": "stream",
     "text": [
      "Peshawari Kohat Wale 4.1 4683 Pitampura\n",
      "Tandoori Nights 0 19661940 Pitampura\n",
      "UBQ by Barbeque Nation 3.5 18889769 Netaji Subhash Place\n",
      "Barbeque Nation 4.1 9561 Netaji Subhash Place\n",
      "Jungal Raaj 0 19786712 Rohini\n",
      "Anytime Chicken 0 19520153 Shalimar Bagh\n",
      "UBQ by Barbeque Nation 3.9 19082741 Lawrence Road\n",
      "Moet's Barbeque 0 19238917 Alipur\n",
      "The Tangdi Club 0 19779002 Rohini\n",
      "BBQ Express By The Barbeque Company 3.8 19494102 Punjabi Bagh\n"
     ]
    }
   ],
   "source": [
    "# QUESTION 2\n",
    "\n",
    "import requests\n",
    "header={\"user-key\":\"aeb022f21d43f57c4beee0485a0111a0\"}\n",
    "response1=requests.get(\"https://developers.zomato.com/api/v2.1/search\",headers=header,params={'entity_id':'city','entity_type':1,'cuisines':'193','count':10,'lat':28.6977,'lon':77.1406,'sort':'real_distance','order':'asc'})\n",
    "for i in response1.json()['restaurants']:\n",
    "    print(i['restaurant']['name'],i['restaurant']['user_rating']['aggregate_rating'],i['restaurant']['id'],i['restaurant']['location']['locality'])\n"
   ]
  },
  {
   "cell_type": "code",
   "execution_count": null,
   "metadata": {},
   "outputs": [],
   "source": [
    "# QUESTION 3\n",
    "\n",
    "import requests\n",
    "header={\"user-key\":\"aeb022f21d43f57c4beee0485a0111a0\"}\n",
    "res_id='18204820'\n",
    "response2=requests.get(\"https://developers.zomato.com/api/v2.1/reviews\",headers=header,params={\"res_id\":res_id})\n",
    "for i in response2.json()['user_reviews']:\n",
    "    print(i['review']['user']['name'],i['review']['rating'],i['review']['review_text'])\n",
    "    \n",
    "# API Disabled"
   ]
  },
  {
   "cell_type": "code",
   "execution_count": 22,
   "metadata": {},
   "outputs": [
    {
     "name": "stdout",
     "output_type": "stream",
     "text": [
      "Indian Accent 4.9 2004 The Lodhi, Lodhi Road\n",
      "Kuremal Mohan Lal Kulfi Wale 4.9 303642 Chawri Bazar\n",
      "The Big Chill 4.9 1614 Khan Market\n",
      "Dum-Pukht - ITC Maurya 4.9 2744 ITC Maurya, Chanakyapuri\n",
      "The Big Chill 4.9 8244 Khan Market\n",
      "ROYCE' Chocolate 4.9 18618280 Ambience Mall, DLF Phase 3\n",
      "Ghar Ka 4.9 19364132 Sector 7, Dwarka\n",
      "The Big Chill Cafe 4.8 18919107 The Colonnade, Connaught Place\n",
      "The Big Chill 4.8 3192 DLF Avenue, Saket\n",
      "The Big Chill 4.8 3190 Kailash Colony\n"
     ]
    }
   ],
   "source": [
    "# QUESTION 4\n",
    "\n",
    "import requests\n",
    "header={\"user-key\":\"aeb022f21d43f57c4beee0485a0111a0\"}\n",
    "response1=requests.get(\"https://developers.zomato.com/api/v2.1/search\",headers=header,params={'entity_id':'city','entity_type':1,'count':10,'lat':28.6977,'lon':77.1406,'radius':4000,'sort':'rating','order':'desc'})\n",
    "for i in response1.json()['restaurants']:\n",
    "    print(i['restaurant']['name'],i['restaurant']['user_rating']['aggregate_rating'],i['restaurant']['id'],i['restaurant']['location']['locality'])\n"
   ]
  },
  {
   "cell_type": "code",
   "execution_count": 23,
   "metadata": {},
   "outputs": [
    {
     "name": "stdout",
     "output_type": "stream",
     "text": [
      "no\n"
     ]
    }
   ],
   "source": [
    "# QUESTION 5\n",
    "\n",
    "## As per question directions, Use google search to find whether restaurant lie in range of 4km or not.\n",
    "print('no')"
   ]
  }
 ],
 "metadata": {
  "kernelspec": {
   "display_name": "Python 3",
   "language": "python",
   "name": "python3"
  },
  "language_info": {
   "codemirror_mode": {
    "name": "ipython",
    "version": 3
   },
   "file_extension": ".py",
   "mimetype": "text/x-python",
   "name": "python",
   "nbconvert_exporter": "python",
   "pygments_lexer": "ipython3",
   "version": "3.7.4"
  }
 },
 "nbformat": 4,
 "nbformat_minor": 4
}
